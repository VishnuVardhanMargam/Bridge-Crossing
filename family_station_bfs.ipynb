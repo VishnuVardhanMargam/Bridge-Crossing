{
 "cells": [
  {
   "cell_type": "code",
   "execution_count": 4,
   "id": "41a76e98",
   "metadata": {},
   "outputs": [],
   "source": [
    "class State:\n",
    "    def __init__(self, left_side, right_side, umbrella_side, time):\n",
    "        self.left_side = left_side[:]\n",
    "        self.right_side = right_side[:]\n",
    "        self.umbrella_side = umbrella_side\n",
    "        self.time = time\n",
    "\n",
    "    def goalTest(self):\n",
    "        return len(self.left_side) == 0\n",
    "\n",
    "    def key(self):\n",
    "        return (tuple(sorted(self.left_side)),\n",
    "                tuple(sorted(self.right_side)),\n",
    "                self.umbrella_side)\n",
    "\n",
    "    def moveGen(self, times):\n",
    "        successors = []\n",
    "        if self.umbrella_side == 'L':\n",
    "            people = self.left_side\n",
    "            \n",
    "            for i in range(len(people)):\n",
    "                a = people[i]\n",
    "                t = times[a]\n",
    "                new_left = [x for x in people if x != a]\n",
    "                new_right = self.right_side + [a]\n",
    "                successors.append(State(new_left, new_right, 'R', self.time + t))\n",
    "            \n",
    "            for i in range(len(people)):\n",
    "                for j in range(i+1, len(people)):\n",
    "                    a, b = people[i], people[j]\n",
    "                    t = max(times[a], times[b])\n",
    "                    new_left = [x for x in people if x not in (a,b)]\n",
    "                    new_right = self.right_side + [a,b]\n",
    "                    successors.append(State(new_left, new_right, 'R', self.time + t))\n",
    "        else:\n",
    "            people = self.right_side\n",
    "            \n",
    "            for i in range(len(people)):\n",
    "                a = people[i]\n",
    "                t = times[a]\n",
    "                new_right = [x for x in people if x != a]\n",
    "                new_left = self.left_side + [a]\n",
    "                successors.append(State(new_left, new_right, 'L', self.time + t))\n",
    "            \n",
    "            for i in range(len(people)):\n",
    "                for j in range(i+1, len(people)):\n",
    "                    a, b = people[i], people[j]\n",
    "                    t = max(times[a], times[b])\n",
    "                    new_right = [x for x in people if x not in (a,b)]\n",
    "                    new_left = self.left_side + [a,b]\n",
    "                    successors.append(State(new_left, new_right, 'L', self.time + t))\n",
    "        return successors\n"
   ]
  },
  {
   "cell_type": "code",
   "execution_count": 5,
   "id": "4f7a2fed",
   "metadata": {},
   "outputs": [],
   "source": [
    "def bfs(start_state, times):\n",
    "    frontier = [start_state]\n",
    "    best_time_for_state = {start_state.key(): 0}\n",
    "    best_goal_time = None\n",
    "\n",
    "    while frontier:\n",
    "        state = frontier.pop(0)\n",
    "\n",
    "        if state.time > best_time_for_state[state.key()]:\n",
    "            continue\n",
    "\n",
    "        if state.goalTest():\n",
    "            if best_goal_time is None or state.time < best_goal_time:\n",
    "                best_goal_time = state.time\n",
    "            continue\n",
    "\n",
    "        for nxt in state.moveGen(times):\n",
    "            k = nxt.key()\n",
    "            if k not in best_time_for_state or nxt.time < best_time_for_state[k]:\n",
    "                best_time_for_state[k] = nxt.time\n",
    "                frontier.append(nxt)\n",
    "\n",
    "    return best_goal_time\n"
   ]
  },
  {
   "cell_type": "code",
   "execution_count": 6,
   "id": "c6328595",
   "metadata": {},
   "outputs": [
    {
     "name": "stdout",
     "output_type": "stream",
     "text": [
      "Shortest time for all to reach station: 60 minutes\n"
     ]
    }
   ],
   "source": [
    "times = {\n",
    "    'Amogh': 5,\n",
    "    'Ameya': 10,\n",
    "    'Grandma': 20,\n",
    "    'Grandpa': 25\n",
    "}\n",
    "\n",
    "start = State(list(times.keys()), [], 'L', 0)\n",
    "result = bfs(start, times)\n",
    "print(\"Shortest time for all to reach station:\", result, \"minutes\")\n"
   ]
  },
  {
   "cell_type": "code",
   "execution_count": null,
   "id": "1ae98c95-eff4-49d5-98de-5f9bae2c786d",
   "metadata": {},
   "outputs": [],
   "source": []
  }
 ],
 "metadata": {
  "kernelspec": {
   "display_name": "Python 3 (ipykernel)",
   "language": "python",
   "name": "python3"
  },
  "language_info": {
   "codemirror_mode": {
    "name": "ipython",
    "version": 3
   },
   "file_extension": ".py",
   "mimetype": "text/x-python",
   "name": "python",
   "nbconvert_exporter": "python",
   "pygments_lexer": "ipython3",
   "version": "3.12.3"
  }
 },
 "nbformat": 4,
 "nbformat_minor": 5
}
